{
 "cells": [
  {
   "cell_type": "code",
   "execution_count": 1,
   "id": "e544dee5",
   "metadata": {
    "ExecuteTime": {
     "end_time": "2024-02-27T21:41:59.664218Z",
     "start_time": "2024-02-27T21:41:59.654739Z"
    }
   },
   "outputs": [],
   "source": [
    "from abc import ABC, abstractmethod\n",
    "from typing import Union"
   ]
  },
  {
   "cell_type": "code",
   "execution_count": 2,
   "id": "5ff2f243",
   "metadata": {
    "ExecuteTime": {
     "end_time": "2024-02-27T21:41:59.973833Z",
     "start_time": "2024-02-27T21:41:59.754233Z"
    }
   },
   "outputs": [],
   "source": [
    "class Observerble(ABC):\n",
    "    def __init__(self, *args, **kwargs):\n",
    "        self._observers_list = []\n",
    "    \n",
    "    def attach(self, observer: 'Observer') -> None:\n",
    "        self._observers_list.append(observer)\n",
    "    \n",
    "    def detach(self, observer: 'Observer') -> None:\n",
    "        self._observers_list.remove(observer)\n",
    "    \n",
    "    @abstractmethod\n",
    "    def notify(self, *args, **kwargs) -> None:\n",
    "        pass"
   ]
  },
  {
   "cell_type": "code",
   "execution_count": 3,
   "id": "b66e42a9",
   "metadata": {
    "ExecuteTime": {
     "end_time": "2024-02-27T21:42:00.168438Z",
     "start_time": "2024-02-27T21:41:59.978851Z"
    }
   },
   "outputs": [],
   "source": [
    "class Observer(ABC):\n",
    "    @abstractmethod\n",
    "    def update(self, *args, **kwargs) -> None:\n",
    "        pass"
   ]
  },
  {
   "cell_type": "code",
   "execution_count": 4,
   "id": "9f180527",
   "metadata": {
    "ExecuteTime": {
     "end_time": "2024-02-27T21:42:00.192706Z",
     "start_time": "2024-02-27T21:42:00.172453Z"
    }
   },
   "outputs": [],
   "source": [
    "class Strategy(ABC):\n",
    "    @abstractmethod\n",
    "    def eval(self):\n",
    "        pass"
   ]
  },
  {
   "cell_type": "code",
   "execution_count": 5,
   "id": "f888e372",
   "metadata": {
    "ExecuteTime": {
     "end_time": "2024-02-27T21:42:00.228473Z",
     "start_time": "2024-02-27T21:42:00.197724Z"
    }
   },
   "outputs": [],
   "source": [
    "class BinaryStrategy(Strategy):\n",
    "    def __init__(self, a, b):\n",
    "        self.a = a\n",
    "        self.b = b\n",
    "    \n",
    "    def _get_values(self):\n",
    "        value1 = self.a\n",
    "        if isinstance(value1, ReactNumber):\n",
    "            value1 = value1.value\n",
    "        value2 = self.b\n",
    "        if isinstance(value2, ReactNumber):\n",
    "            value2 = value2.value\n",
    "        return value1, value2\n",
    "\n",
    "\n",
    "class MultiplicationStrategy(BinaryStrategy):\n",
    "    def eval(self):\n",
    "        a, b = self._get_values()\n",
    "        return a * b\n",
    "\n",
    "    \n",
    "class SummatoryStrategy(BinaryStrategy):\n",
    "    def eval(self):\n",
    "        a, b = self._get_values()\n",
    "        return a + b\n",
    "\n",
    "    \n",
    "class DifferenceStrategy(BinaryStrategy):\n",
    "    def eval(self):\n",
    "        a, b = self._get_values()\n",
    "        return a - b"
   ]
  },
  {
   "cell_type": "code",
   "execution_count": 6,
   "id": "9bdc80a9",
   "metadata": {
    "ExecuteTime": {
     "end_time": "2024-02-27T21:42:00.317047Z",
     "start_time": "2024-02-27T21:42:00.237491Z"
    }
   },
   "outputs": [],
   "source": [
    "class ReactNumber(Observerble, Observer):\n",
    "    def __init__(self, number: Union[int, float, Strategy]):\n",
    "        super().__init__(number)\n",
    "        self.value = number\n",
    "\n",
    "    @property\n",
    "    def value(self) -> Union[int, float]:\n",
    "        if self._number is None and self._strategy is not None:\n",
    "            self._number = self._strategy.eval()\n",
    "        return self._number\n",
    "\n",
    "    @value.setter\n",
    "    def value(self, new_value: Union[int, float, Strategy]) -> None:\n",
    "        self._number = None\n",
    "        self._strategy = None\n",
    "        if isinstance(new_value, Strategy):\n",
    "            self._strategy = new_value\n",
    "        else:\n",
    "            self._number = new_value\n",
    "        self.notify()\n",
    "\n",
    "    def __str__(self) -> str:\n",
    "        return str(self.value)\n",
    "\n",
    "    def __repr__(self) -> str:\n",
    "        return str(self)\n",
    "\n",
    "    def update(self, *args, **kwargs) -> None:\n",
    "        if self._strategy is not None:\n",
    "            self._number = self._strategy.eval()\n",
    "        self.notify()\n",
    "\n",
    "    def notify(self) -> None:\n",
    "        for observer in self._observers_list:\n",
    "            if hasattr(observer, 'update'):\n",
    "                observer.update(self)\n",
    "\n",
    "    def __mul__(self, other) -> 'ReactNumber':\n",
    "        \"\"\"\n",
    "         Функция умножения\n",
    "        :param other: другой объект\n",
    "        :return: возвращает новое число\n",
    "        \"\"\"\n",
    "        new_number = ReactNumber(MultiplicationStrategy(self, other))\n",
    "        self.attach(new_number)\n",
    "        if isinstance(other, ReactNumber):\n",
    "            other.attach(new_number)\n",
    "        return new_number\n",
    "\n",
    "    def __rmul__(self, other) -> 'ReactNumber':\n",
    "        \"\"\"\n",
    "        Функция отражённое умножение\n",
    "        :param other: другой объект\n",
    "        :return: возвращает новое число\n",
    "        \"\"\"\n",
    "        new_number = ReactNumber(MultiplicationStrategy(other, self))\n",
    "        self.attach(new_number)\n",
    "        if isinstance(other, ReactNumber):\n",
    "            other.attach(new_number)\n",
    "        return new_number\n",
    "\n",
    "    def __add__(self, other) -> 'ReactNumber':\n",
    "        \"\"\"\n",
    "        Функция сложения\n",
    "        :param other: другой объект\n",
    "        :return: возвращает новое число\n",
    "        \"\"\"\n",
    "        new_number = ReactNumber(SummatoryStrategy(self, other))\n",
    "        self.attach(new_number)\n",
    "        if isinstance(other, ReactNumber):\n",
    "            other.attach(new_number)\n",
    "        return new_number\n",
    "\n",
    "    def __radd__(self, other) -> 'ReactNumber':\n",
    "        \"\"\"\n",
    "        Функция отражённое сложение\n",
    "        :param other: другой объект\n",
    "        :return: возвращает новое число\n",
    "        \"\"\"\n",
    "        new_number = ReactNumber(SummatoryStrategy(other, self))\n",
    "        self.attach(new_number)\n",
    "        if isinstance(other, ReactNumber):\n",
    "            other.attach(new_number)\n",
    "        return new_number\n",
    "\n",
    "    def __sub__(self, other) -> 'ReactNumber':\n",
    "        \"\"\"\n",
    "        Функция вычитания\n",
    "        :param other: другой объект\n",
    "        :return: возвращает новое число\n",
    "        \"\"\"\n",
    "        new_number = ReactNumber(DifferenceStrategy(self, other))\n",
    "        self.attach(new_number)\n",
    "        if isinstance(other, ReactNumber):\n",
    "            other.attach(new_number)\n",
    "        return new_number\n",
    "\n",
    "    def __rsub__(self, other) -> 'ReactNumber':\n",
    "        \"\"\"\n",
    "        Функция отражённое вычитание\n",
    "        :param other: другой объект\n",
    "        :return: возвращает новое число\n",
    "        \"\"\"\n",
    "        new_number = ReactNumber(DifferenceStrategy(self, other))\n",
    "        self.attach(new_number)\n",
    "        if isinstance(other, ReactNumber):\n",
    "            other.attach(new_number)\n",
    "        return new_number * -1"
   ]
  },
  {
   "cell_type": "code",
   "execution_count": 11,
   "id": "d94a4ba9",
   "metadata": {
    "ExecuteTime": {
     "end_time": "2024-02-27T21:42:37.487473Z",
     "start_time": "2024-02-27T21:42:37.473645Z"
    }
   },
   "outputs": [
    {
     "data": {
      "text/plain": "(5, 10)"
     },
     "execution_count": 11,
     "metadata": {},
     "output_type": "execute_result"
    }
   ],
   "source": [
    "x = ReactNumber(5)\n",
    "y = ReactNumber(10)\n",
    "x, y"
   ]
  },
  {
   "cell_type": "code",
   "execution_count": 12,
   "id": "77e0a9c6",
   "metadata": {
    "ExecuteTime": {
     "end_time": "2024-02-27T21:42:38.273348Z",
     "start_time": "2024-02-27T21:42:38.266317Z"
    }
   },
   "outputs": [],
   "source": [
    "y.value = 20"
   ]
  },
  {
   "cell_type": "code",
   "execution_count": 13,
   "id": "4954ec05",
   "metadata": {
    "ExecuteTime": {
     "end_time": "2024-02-27T21:42:38.877471Z",
     "start_time": "2024-02-27T21:42:38.860739Z"
    }
   },
   "outputs": [
    {
     "data": {
      "text/plain": "1300"
     },
     "execution_count": 13,
     "metadata": {},
     "output_type": "execute_result"
    }
   ],
   "source": [
    "result = x * y + 3 * y * y\n",
    "result"
   ]
  },
  {
   "cell_type": "code",
   "execution_count": 14,
   "id": "61878a1a",
   "metadata": {
    "ExecuteTime": {
     "end_time": "2024-02-27T21:42:39.941734Z",
     "start_time": "2024-02-27T21:42:39.928948Z"
    }
   },
   "outputs": [
    {
     "data": {
      "text/plain": "(1300, __main__.ReactNumber)"
     },
     "execution_count": 14,
     "metadata": {},
     "output_type": "execute_result"
    }
   ],
   "source": [
    "result, type(result)"
   ]
  },
  {
   "cell_type": "code",
   "outputs": [],
   "source": [],
   "metadata": {
    "collapsed": false
   },
   "id": "f024f5f9be8533d5"
  }
 ],
 "metadata": {
  "kernelspec": {
   "display_name": "Python 3 (ipykernel)",
   "language": "python",
   "name": "python3"
  },
  "language_info": {
   "codemirror_mode": {
    "name": "ipython",
    "version": 3
   },
   "file_extension": ".py",
   "mimetype": "text/x-python",
   "name": "python",
   "nbconvert_exporter": "python",
   "pygments_lexer": "ipython3",
   "version": "3.9.13"
  }
 },
 "nbformat": 4,
 "nbformat_minor": 5
}
