{
 "cells": [
  {
   "cell_type": "code",
   "execution_count": 25,
   "id": "e544dee5",
   "metadata": {
    "ExecuteTime": {
     "end_time": "2024-02-27T21:46:06.741873Z",
     "start_time": "2024-02-27T21:46:06.736053Z"
    }
   },
   "outputs": [],
   "source": [
    "from abc import ABC, abstractmethod\n",
    "from typing import Union"
   ]
  },
  {
   "cell_type": "code",
   "execution_count": 26,
   "id": "5ff2f243",
   "metadata": {
    "ExecuteTime": {
     "end_time": "2024-02-27T21:46:06.765418Z",
     "start_time": "2024-02-27T21:46:06.756893Z"
    }
   },
   "outputs": [],
   "source": [
    "class Observerble(ABC):\n",
    "    def __init__(self, *args, **kwargs):\n",
    "        self._observers_list = []\n",
    "    \n",
    "    def attach(self, observer: 'Observer') -> None:\n",
    "        self._observers_list.append(observer)\n",
    "    \n",
    "    def detach(self, observer: 'Observer') -> None:\n",
    "        self._observers_list.remove(observer)\n",
    "    \n",
    "    @abstractmethod\n",
    "    def notify(self, *args, **kwargs) -> None:\n",
    "        pass"
   ]
  },
  {
   "cell_type": "code",
   "execution_count": 27,
   "id": "b66e42a9",
   "metadata": {
    "ExecuteTime": {
     "end_time": "2024-02-27T21:46:06.876650Z",
     "start_time": "2024-02-27T21:46:06.866433Z"
    }
   },
   "outputs": [],
   "source": [
    "class Observer(ABC):\n",
    "    @abstractmethod\n",
    "    def update(self, *args, **kwargs) -> None:\n",
    "        pass"
   ]
  },
  {
   "cell_type": "code",
   "execution_count": 28,
   "id": "9f180527",
   "metadata": {
    "ExecuteTime": {
     "end_time": "2024-02-27T21:46:06.909448Z",
     "start_time": "2024-02-27T21:46:06.901646Z"
    }
   },
   "outputs": [],
   "source": [
    "class Strategy(ABC):\n",
    "    @abstractmethod\n",
    "    def eval(self):\n",
    "        pass"
   ]
  },
  {
   "cell_type": "code",
   "execution_count": 29,
   "id": "f888e372",
   "metadata": {
    "ExecuteTime": {
     "end_time": "2024-02-27T21:46:06.943156Z",
     "start_time": "2024-02-27T21:46:06.928463Z"
    }
   },
   "outputs": [],
   "source": [
    "class BinaryStrategy(Strategy):\n",
    "    def __init__(self, a, b):\n",
    "        self.a = a\n",
    "        self.b = b\n",
    "    \n",
    "    def _get_values(self):\n",
    "        value1 = self.a\n",
    "        if isinstance(value1, ReactNumber):\n",
    "            value1 = value1.value\n",
    "        value2 = self.b\n",
    "        if isinstance(value2, ReactNumber):\n",
    "            value2 = value2.value\n",
    "        return value1, value2\n",
    "\n",
    "\n",
    "class MultiplicationStrategy(BinaryStrategy):\n",
    "    \"\"\"\n",
    "    Класс, наследующийся от BinaryStrategy, вычисляет произведение чисел\n",
    "    \"\"\"\n",
    "    def eval(self):\n",
    "        \"\"\"\n",
    "        Функция умножения значений\n",
    "\n",
    "        :return: Возвращает произведение чисел\n",
    "        :rtype: int\n",
    "        \"\"\"\n",
    "        a, b = self._get_values()\n",
    "        return a * b\n",
    "\n",
    "\n",
    "class SummatoryStrategy(BinaryStrategy):\n",
    "    \"\"\"\n",
    "    Класс, наследующийся от BinaryStrategy, вычисляет сумму чисел\n",
    "    \"\"\"\n",
    "    def eval(self):\n",
    "        \"\"\"\n",
    "        Функция сложения значений\n",
    "\n",
    "        :return: Возвращает сумму значений\n",
    "        :rtype: int\n",
    "        \"\"\"\n",
    "        a, b = self._get_values()\n",
    "        return a + b\n",
    "\n",
    "\n",
    "class DifferenceStrategy(BinaryStrategy):\n",
    "    \"\"\"\n",
    "    Класс, наследующийся от BinaryStrategy, вычисляет разность чисел\n",
    "    \"\"\"\n",
    "    def eval(self):\n",
    "        \"\"\"\n",
    "        Функция вычитания значений\n",
    "\n",
    "        :return: Возвращает разницу между числами\n",
    "        :rtype: int\n",
    "        \"\"\"\n",
    "        a, b = self._get_values()\n",
    "        return a - b"
   ]
  },
  {
   "cell_type": "code",
   "execution_count": 30,
   "id": "9bdc80a9",
   "metadata": {
    "ExecuteTime": {
     "end_time": "2024-02-27T21:46:06.991634Z",
     "start_time": "2024-02-27T21:46:06.962180Z"
    }
   },
   "outputs": [],
   "source": [
    "class ReactNumber(Observerble, Observer):\n",
    "    def __init__(self, number: Union[int, float, Strategy]):\n",
    "        super().__init__(number)\n",
    "        self.value = number\n",
    "\n",
    "    @property\n",
    "    def value(self) -> Union[int, float]:\n",
    "        if self._number is None and self._strategy is not None:\n",
    "            self._number = self._strategy.eval()\n",
    "        return self._number\n",
    "\n",
    "    @value.setter\n",
    "    def value(self, new_value: Union[int, float, Strategy]) -> None:\n",
    "        self._number = None\n",
    "        self._strategy = None\n",
    "        if isinstance(new_value, Strategy):\n",
    "            self._strategy = new_value\n",
    "        else:\n",
    "            self._number = new_value\n",
    "        self.notify()\n",
    "\n",
    "    def __str__(self) -> str:\n",
    "        return str(self.value)\n",
    "\n",
    "    def __repr__(self) -> str:\n",
    "        return str(self)\n",
    "\n",
    "    def update(self, *args, **kwargs) -> None:\n",
    "        if self._strategy is not None:\n",
    "            self._number = self._strategy.eval()\n",
    "        self.notify()\n",
    "\n",
    "    def notify(self) -> None:\n",
    "        for observer in self._observers_list:\n",
    "            if hasattr(observer, 'update'):\n",
    "                observer.update(self)\n",
    "\n",
    "    def __mul__(self, other) -> 'ReactNumber':\n",
    "        \"\"\"\n",
    "         Функция умножения\n",
    "        :param other: другой объект\n",
    "        :return: возвращает новое число\n",
    "        \"\"\"\n",
    "        new_number = ReactNumber(MultiplicationStrategy(self, other))\n",
    "        self.attach(new_number)\n",
    "        if isinstance(other, ReactNumber):\n",
    "            other.attach(new_number)\n",
    "        return new_number\n",
    "\n",
    "    def __rmul__(self, other) -> 'ReactNumber':\n",
    "        \"\"\"\n",
    "        Функция отражённое умножение\n",
    "        :param other: другой объект\n",
    "        :return: возвращает новое число\n",
    "        \"\"\"\n",
    "        new_number = ReactNumber(MultiplicationStrategy(other, self))\n",
    "        self.attach(new_number)\n",
    "        if isinstance(other, ReactNumber):\n",
    "            other.attach(new_number)\n",
    "        return new_number\n",
    "\n",
    "    def __add__(self, other) -> 'ReactNumber':\n",
    "        \"\"\"\n",
    "        Функция сложения\n",
    "        :param other: другой объект\n",
    "        :return: возвращает новое число\n",
    "        \"\"\"\n",
    "        new_number = ReactNumber(SummatoryStrategy(self, other))\n",
    "        self.attach(new_number)\n",
    "        if isinstance(other, ReactNumber):\n",
    "            other.attach(new_number)\n",
    "        return new_number\n",
    "\n",
    "    def __radd__(self, other) -> 'ReactNumber':\n",
    "        \"\"\"\n",
    "        Функция отражённое сложение\n",
    "        :param other: другой объект\n",
    "        :return: возвращает новое число\n",
    "        \"\"\"\n",
    "        new_number = ReactNumber(SummatoryStrategy(other, self))\n",
    "        self.attach(new_number)\n",
    "        if isinstance(other, ReactNumber):\n",
    "            other.attach(new_number)\n",
    "        return new_number\n",
    "\n",
    "    def __sub__(self, other) -> 'ReactNumber':\n",
    "        \"\"\"\n",
    "        Функция вычитания\n",
    "        :param other: другой объект\n",
    "        :return: возвращает новое число\n",
    "        \"\"\"\n",
    "        new_number = ReactNumber(DifferenceStrategy(self, other))\n",
    "        self.attach(new_number)\n",
    "        if isinstance(other, ReactNumber):\n",
    "            other.attach(new_number)\n",
    "        return new_number\n",
    "\n",
    "    def __rsub__(self, other) -> 'ReactNumber':\n",
    "        \"\"\"\n",
    "        Функция отражённое вычитание\n",
    "        :param other: другой объект\n",
    "        :return: возвращает новое число\n",
    "        \"\"\"\n",
    "        new_number = ReactNumber(DifferenceStrategy(self, other))\n",
    "        self.attach(new_number)\n",
    "        if isinstance(other, ReactNumber):\n",
    "            other.attach(new_number)\n",
    "        return new_number * -1"
   ]
  },
  {
   "cell_type": "code",
   "execution_count": 31,
   "id": "d94a4ba9",
   "metadata": {
    "ExecuteTime": {
     "end_time": "2024-02-27T21:46:07.020217Z",
     "start_time": "2024-02-27T21:46:07.001648Z"
    }
   },
   "outputs": [
    {
     "data": {
      "text/plain": "(5, 10)"
     },
     "execution_count": 31,
     "metadata": {},
     "output_type": "execute_result"
    }
   ],
   "source": [
    "x = ReactNumber(5)\n",
    "y = ReactNumber(10)\n",
    "x, y"
   ]
  },
  {
   "cell_type": "code",
   "execution_count": 32,
   "id": "77e0a9c6",
   "metadata": {
    "ExecuteTime": {
     "end_time": "2024-02-27T21:46:07.045337Z",
     "start_time": "2024-02-27T21:46:07.037231Z"
    }
   },
   "outputs": [],
   "source": [
    "y.value = 20"
   ]
  },
  {
   "cell_type": "code",
   "execution_count": 33,
   "id": "4954ec05",
   "metadata": {
    "ExecuteTime": {
     "end_time": "2024-02-27T21:46:07.087044Z",
     "start_time": "2024-02-27T21:46:07.065354Z"
    }
   },
   "outputs": [
    {
     "data": {
      "text/plain": "1300"
     },
     "execution_count": 33,
     "metadata": {},
     "output_type": "execute_result"
    }
   ],
   "source": [
    "result = x * y + 3 * y * y\n",
    "result"
   ]
  },
  {
   "cell_type": "code",
   "execution_count": 34,
   "id": "61878a1a",
   "metadata": {
    "ExecuteTime": {
     "end_time": "2024-02-27T21:46:07.185697Z",
     "start_time": "2024-02-27T21:46:07.175067Z"
    }
   },
   "outputs": [
    {
     "data": {
      "text/plain": "(1300, __main__.ReactNumber)"
     },
     "execution_count": 34,
     "metadata": {},
     "output_type": "execute_result"
    }
   ],
   "source": [
    "result, type(result)"
   ]
  },
  {
   "cell_type": "code",
   "outputs": [],
   "source": [],
   "metadata": {
    "collapsed": false,
    "ExecuteTime": {
     "end_time": "2024-02-27T21:46:07.272959Z",
     "start_time": "2024-02-27T21:46:07.267712Z"
    }
   },
   "id": "f024f5f9be8533d5",
   "execution_count": 34
  }
 ],
 "metadata": {
  "kernelspec": {
   "display_name": "Python 3 (ipykernel)",
   "language": "python",
   "name": "python3"
  },
  "language_info": {
   "codemirror_mode": {
    "name": "ipython",
    "version": 3
   },
   "file_extension": ".py",
   "mimetype": "text/x-python",
   "name": "python",
   "nbconvert_exporter": "python",
   "pygments_lexer": "ipython3",
   "version": "3.9.13"
  }
 },
 "nbformat": 4,
 "nbformat_minor": 5
}
